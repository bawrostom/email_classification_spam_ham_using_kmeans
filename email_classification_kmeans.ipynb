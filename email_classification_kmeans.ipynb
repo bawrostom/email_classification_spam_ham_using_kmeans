{
  "cells": [
    {
      "cell_type": "markdown",
      "metadata": {
        "id": "NUd8e-915m9F"
      },
      "source": [
        "### **PROJECT**\n",
        "\n",
        "# Description\n",
        "In this little project, we are going to implement a spam classification method, that is we will assign a lable to each input email as *spam* or *ham* (non-spam)\n",
        "\n",
        "\n",
        "# The data\n",
        "The date used contain a set of emails described by a set of features (the data has already been processed and the features computed)\n",
        "\n",
        "The data is stored as a 'npz' file (we show how to retrieve it bellow)\n",
        "\n",
        "The file contains:\n",
        "  - training data, with labels\n",
        "  - test data without the lables\n"
      ]
    },
    {
      "cell_type": "markdown",
      "metadata": {
        "id": "zcE3bGtcu1sY"
      },
      "source": [
        "# To get the data\n",
        "\n",
        "1. First you have to download the file spam_project.npz in your loacl repository\n",
        "  - If you use jupiter notebook, you can add the file in your current working directory\n",
        "  - If you use google colab, you have to add the file to your Google drive \n",
        "\n",
        "2. Then you can load the file and access the data\n",
        "\n",
        "I will describe here the loading procedure for Google colab"
      ]
    },
    {
      "cell_type": "code",
      "execution_count": 48,
      "metadata": {
        "colab": {
          "base_uri": "https://localhost:8080/"
        },
        "id": "VsuvmAk55Jg4",
        "outputId": "791b6fca-84ee-4978-aba2-3fe2a72c3d50"
      },
      "outputs": [
        {
          "output_type": "stream",
          "name": "stdout",
          "text": [
            "Mounted at /content/gdrive\n"
          ]
        }
      ],
      "source": [
        "# Opening the data file\n",
        "import numpy as np\n",
        "from numpy import linalg as la\n",
        "from matplotlib import pyplot as plt\n",
        "import pandas as pd\n",
        "# First you have mount google drive\n",
        "from google.colab import drive\n",
        "from numpy import random\n",
        "drive.mount('/content/gdrive')"
      ]
    },
    {
      "cell_type": "code",
      "execution_count": 28,
      "metadata": {
        "id": "gH8Ga8tuvoYW"
      },
      "outputs": [],
      "source": [
        "# Indicate the path to the file\n",
        "gdrive_path = '/content/gdrive/MyDrive/' \n",
        "# load the spam file\n",
        "data = np.load(gdrive_path +'spam_project.npz')\n",
        "test_load = np.load(gdrive_path +'testing_data.npy')"
      ]
    },
    {
      "cell_type": "code",
      "source": [],
      "metadata": {
        "id": "zyxOjR4goHjx"
      },
      "execution_count": 28,
      "outputs": []
    },
    {
      "cell_type": "code",
      "execution_count": 29,
      "metadata": {
        "colab": {
          "base_uri": "https://localhost:8080/"
        },
        "id": "Ors7PlPWv38d",
        "outputId": "0a4acd2e-1e7d-461f-ad72-b3a6f2611f46"
      },
      "outputs": [
        {
          "output_type": "stream",
          "name": "stderr",
          "text": [
            "Exception ignored in: <function NpzFile.__del__ at 0x7f37499a7250>\n",
            "Traceback (most recent call last):\n",
            "  File \"/usr/local/lib/python3.10/dist-packages/numpy/lib/npyio.py\", line 213, in __del__\n",
            "  File \"/usr/local/lib/python3.10/dist-packages/numpy/lib/npyio.py\", line 208, in close\n",
            "OSError: [Errno 107] Transport endpoint is not connected\n"
          ]
        },
        {
          "output_type": "execute_result",
          "data": {
            "text/plain": [
              "['training_data', 'training_labels', 'testing_data']"
            ]
          },
          "metadata": {},
          "execution_count": 29
        }
      ],
      "source": [
        "# Now we can acess the data\n",
        "# NOTE: data is saved as a dictionary, so we need the keys to acces the different arrays\n",
        "data.files"
      ]
    },
    {
      "cell_type": "markdown",
      "metadata": {
        "id": "qwV8k9F4wFUK"
      },
      "source": [
        "As we can see, from above output, we have 3 keys (meaning 3 arrays) in the variable data: 'training_data', 'training_labels' and 'testing_data'\n",
        "\n",
        "Let's have a look at the training data"
      ]
    },
    {
      "cell_type": "code",
      "execution_count": 30,
      "metadata": {
        "colab": {
          "base_uri": "https://localhost:8080/"
        },
        "id": "Bbpu3gh9wVgn",
        "outputId": "df7b2ccb-3495-48e6-c745-c039a9a08255"
      },
      "outputs": [
        {
          "output_type": "stream",
          "name": "stdout",
          "text": [
            "(3127, 32)\n"
          ]
        }
      ],
      "source": [
        "train_data = data['training_data']\n",
        "print(train_data.shape)"
      ]
    },
    {
      "cell_type": "code",
      "execution_count": 31,
      "metadata": {
        "colab": {
          "base_uri": "https://localhost:8080/"
        },
        "id": "yanxhkwwJi74",
        "outputId": "640190eb-b072-47b2-b732-66b8402e8710"
      },
      "outputs": [
        {
          "output_type": "stream",
          "name": "stdout",
          "text": [
            "Mounted at /content/drive\n"
          ]
        }
      ],
      "source": [
        "from google.colab import drive\n",
        "drive.mount('/content/drive')"
      ]
    },
    {
      "cell_type": "markdown",
      "metadata": {
        "id": "0TCNvimvwqCG"
      },
      "source": [
        "We see that we have 3172 training example, describe by 32 features"
      ]
    },
    {
      "cell_type": "code",
      "execution_count": 32,
      "metadata": {
        "colab": {
          "base_uri": "https://localhost:8080/"
        },
        "id": "o7GK9mIzwhD2",
        "outputId": "daab94ac-1651-4fcd-dccf-1c837bfb0104"
      },
      "outputs": [
        {
          "output_type": "stream",
          "name": "stdout",
          "text": [
            "(3127, 1)\n"
          ]
        }
      ],
      "source": [
        "train_labels = data['training_labels']\n",
        "#test_data = \n",
        "\n",
        "print(train_labels.shape)"
      ]
    },
    {
      "cell_type": "markdown",
      "metadata": {
        "id": "vNpxI1B-wzVk"
      },
      "source": [
        "Silmilarly, we see that we have 3172 training labels. The labels are :\n",
        "  - 1 for a spam\n",
        "  - 0 for a ham"
      ]
    },
    {
      "cell_type": "markdown",
      "metadata": {
        "id": "ayGFHOABxQj-"
      },
      "source": [
        "### **WHAT YOU HAVE TO D0**\n",
        "\n",
        "This is a binary classification problem and we will try the following:\n",
        "1. Apply PCA to reduce the dimensionality of the features to 2\n",
        "  - Pick frist 2 principal components\n",
        "  - Plot the data in this 2D space (different color for different class)\n",
        "  - Apply k-means to the projected data (2D-space)\n",
        "    - NOTE: Data in the same class, must belong to the same cluster\n",
        "    - So, it is a good idea to apply k-means to each class separately\n",
        "      - For example, if k=2, we will have 2 cluster centers for the spam class and 2 cluster centers for the ham class\n",
        "    - For a sample to classifiy, we find the nearest cluster center among all clusters, and assign the corresponding label\n",
        "    - NOTE: divide the training data into training and validation and use the validation data to set the best value for k\n",
        "    - Show your traing and validation accuracies (can plot it as curves)\n",
        "  - Compute the training accuracy and report it (for the best value for k)\n",
        "\n",
        "2. Comments?\n",
        "  - Is projecting to 2D is good idea? why?\n",
        "  - Apply PCA again, but this time select the number of principal components so that 95% of the data variance is preserved.\n",
        "  - Apply k-means again to the projected data\n",
        "  - Compute the training accuracy\n",
        "  - Conclusion?\n",
        "\n",
        "3. Testing\n",
        "  - Apply your best classifier to the test data\n",
        "    - You must provide the results (the predicted labels) for the test data as a separate file to to submitted with your work\n",
        "\n",
        "\n",
        "\n",
        "4. **OPTIONAL**:\n",
        "  - Use GMM (Gaussian Mixture Model) for classification\n",
        "    - Fit a GMM to the training data (must try different values of K, the number of Gaussians)\n",
        "      - NOTE: divide the training data into training and validation and use the validation data to set the best value for K\n",
        "      - For a given sample, compute the distances to the Gaussians, and assign the label of the closest one (use Mahalanobis distance here)\n",
        "    - Apply your classifier to the test data\n",
        "      - You must provide the results (the predicted lables) for the thest data as a separate file to to submitted with your work\n",
        "  \n"
      ]
    },
    {
      "cell_type": "markdown",
      "metadata": {
        "id": "Oe88xCa01_Vo"
      },
      "source": [
        "### **WHAT TO SUBMIT**\n",
        "- Your notebook containing the code, the plots and as much comments as needed\n",
        "- A file containing the predicted lables for the test data\n",
        "- Submit a zipped folder named as follows on ecampus:\n",
        "\n",
        "'SURNAME_NAME.ZIP'"
      ]
    },
    {
      "cell_type": "code",
      "execution_count": 33,
      "metadata": {
        "id": "dr2FNj_uw-6I",
        "colab": {
          "base_uri": "https://localhost:8080/",
          "height": 489
        },
        "outputId": "fa971f68-b4fa-400e-9d66-f19d5a5fed87"
      },
      "outputs": [
        {
          "output_type": "execute_result",
          "data": {
            "text/plain": [
              "<function matplotlib.pyplot.show(close=None, block=None)>"
            ]
          },
          "metadata": {},
          "execution_count": 33
        },
        {
          "output_type": "display_data",
          "data": {
            "text/plain": [
              "<Figure size 640x480 with 1 Axes>"
            ],
            "image/png": "[encoded data removed]"
          },
          "metadata": {}
        }
      ],
      "source": [
        "#Applying PCA algorithm to reduce the dimensionality of the features to 2\n",
        "\n",
        "#calculating the eigen values\n",
        "U, eig_val, U_T = la.svd(train_data)\n",
        "num_samples = len(train_data[:,1])\n",
        "num_features = len(train_data[1,:])\n",
        "\n",
        "#plotting the eigen values\n",
        "\n",
        "x = np.linspace(0, 31, num=32)\n",
        "\n",
        "plt.plot(x, eig_val,'o')\n",
        "plt.xlabel(f'The eigen values')\n",
        "plt.ylabel('The value')\n",
        "plt.title(\"Eigen values magnitudes\")\n",
        "plt.show"
      ]
    },
    {
      "cell_type": "code",
      "execution_count": 34,
      "metadata": {
        "colab": {
          "base_uri": "https://localhost:8080/"
        },
        "id": "N4G4VDvdXmf0",
        "outputId": "9968ccc3-5f51-45f2-d4fd-c41ff17b3270"
      },
      "outputs": [
        {
          "output_type": "stream",
          "name": "stdout",
          "text": [
            "(32, 32)\n"
          ]
        }
      ],
      "source": [
        "#Centring the data:\n",
        "mean = np.mean(train_data, axis=0)\n",
        "\n",
        "centred_data = train_data - mean\n",
        "\n",
        "# finding the coarience matrix \n",
        "#c = 1/num_features * centred_data.T @ centred_data\n",
        "c = np.cov(centred_data,rowvar=False)\n",
        "#we decompose the covarience matrix to eigen values and eigen vectors\n",
        "tmp, eig_val, tmp_T = la.svd(c)\n",
        "print(c.shape)\n",
        "\n"
      ]
    },
    {
      "cell_type": "markdown",
      "metadata": {
        "id": "74BDkBzkfWuK"
      },
      "source": [
        "#Plotting the data in this 2D space\n"
      ]
    },
    {
      "cell_type": "code",
      "execution_count": 35,
      "metadata": {
        "id": "jS5XOJW0fX0P",
        "colab": {
          "base_uri": "https://localhost:8080/",
          "height": 489
        },
        "outputId": "9169dc23-3c98-41ee-cb84-ec0751166aa0"
      },
      "outputs": [
        {
          "output_type": "execute_result",
          "data": {
            "text/plain": [
              "<function matplotlib.pyplot.show(close=None, block=None)>"
            ]
          },
          "metadata": {},
          "execution_count": 35
        },
        {
          "output_type": "display_data",
          "data": {
            "text/plain": [
              "<Figure size 640x480 with 1 Axes>"
            ],
            "image/png": "[encoded data removed]"
          },
          "metadata": {}
        }
      ],
      "source": [
        "#we take the first 2 principal components from eigen vector matrix\n",
        "V = tmp[:,0:2]\n",
        "#To find \n",
        "new_train_data = (V.T @ centred_data.T).T\n",
        "# plotting the features in 2d\n",
        "new_data = np.concatenate((new_train_data, train_labels),axis=1)\n",
        "\n",
        "#deviding the data to ham and spam\n",
        "ham = new_data[new_data[:, -1] == 0, :2].copy()\n",
        "spam = new_data[new_data[:, -1] == 1, :2].copy()\n",
        "\n",
        "\n",
        "plt.plot(ham[:,0],ham[:,1],'oy',label='ham')\n",
        "plt.plot(spam[:,0],spam[:,1],'or',label='spam')\n",
        "plt.xlabel(f'The eigen values')\n",
        "plt.ylabel('The value')\n",
        "plt.title(\"Eigen values magnitudes\")\n",
        "plt.legend()\n",
        "plt.show\n"
      ]
    },
    {
      "cell_type": "markdown",
      "metadata": {
        "id": "JV9O_syEtlQw"
      },
      "source": [
        "#Applying k-means to the training data"
      ]
    },
    {
      "cell_type": "code",
      "execution_count": 36,
      "metadata": {
        "id": "vsJuyLLxa2uX"
      },
      "outputs": [],
      "source": [
        "# defining the kmeans fucntion:\n",
        "def my_kmeans(X, k):\n",
        "\n",
        "    \n",
        "    N, d = X.shape\n",
        "    eps = 1e-4\n",
        "\n",
        "    # Set a random seed for reproducibility\n",
        "    random.seed(42)\n",
        "\n",
        "    # Initialize centers randomly\n",
        "    random_numbers = random.permutation(N)[:k]\n",
        "    cluster_centers = X[random_numbers, :]\n",
        "    old_cluster_centers = np.zeros((k, d))\n",
        "\n",
        "    # Initialize a matrix to store the cluster assignments\n",
        "    classes = np.zeros((N, k), dtype=int)\n",
        "\n",
        "    # Variable for the number of iterations\n",
        "    iteration = 0\n",
        "\n",
        "    while True:\n",
        "        for i in range(N):\n",
        "            # Calculate the distance\n",
        "            dist = np.sum((X[i, :] - cluster_centers) ** 2, axis=1)\n",
        "            dist = np.sqrt(dist)\n",
        "\n",
        "            # Assign the point to a cluster\n",
        "            index = np.argmin(dist)\n",
        "            classes[i, index] = 1\n",
        "        \n",
        "        # Update the cluster centers\n",
        "        for j in range(k):\n",
        "            assigned_points = X[classes[:, j] == 1]\n",
        "            cluster_centers[j, :] = np.mean(assigned_points, axis=0)\n",
        "\n",
        "\n",
        "        iteration += 1\n",
        "        \n",
        "        # Test convergence\n",
        "        if np.all(la.norm(cluster_centers - old_cluster_centers) <= eps):\n",
        "            break\n",
        "\n",
        "        \n",
        "        old_cluster_centers = cluster_centers\n",
        "\n",
        "    return classes, cluster_centers\n"
      ]
    },
    {
      "cell_type": "markdown",
      "metadata": {
        "id": "w4wz52nwtxUx"
      },
      "source": [
        "# After applying kmeans we plot the training data and the centers\n",
        "\n",
        "\n"
      ]
    },
    {
      "cell_type": "code",
      "execution_count": 37,
      "metadata": {
        "id": "vSefhS8RgkS1",
        "colab": {
          "base_uri": "https://localhost:8080/",
          "height": 489
        },
        "outputId": "c8314f09-2362-4ec2-bbf9-05aba92b0352"
      },
      "outputs": [
        {
          "output_type": "execute_result",
          "data": {
            "text/plain": [
              "<function matplotlib.pyplot.show(close=None, block=None)>"
            ]
          },
          "metadata": {},
          "execution_count": 37
        },
        {
          "output_type": "display_data",
          "data": {
            "text/plain": [
              "<Figure size 640x480 with 1 Axes>"
            ],
            "image/png": "[encoded data removed]"
          },
          "metadata": {}
        }
      ],
      "source": [
        "num_centers = 2\n",
        "classes, center_spam = my_kmeans(spam,num_centers)\n",
        "classes, center_ham = my_kmeans(ham,num_centers)\n",
        "\n",
        "plt.plot(ham[:,0],ham[:,1],'oy',label='ham')\n",
        "plt.plot(spam[:,0],spam[:,1],'or',label='spam')\n",
        "plt.xlabel(f'The eigen values')\n",
        "plt.ylabel('The value')\n",
        "plt.title(\"Eigen values magnitudes\")\n",
        "plt.legend()\n",
        "\n",
        "\n",
        "plt.plot(center_spam[:,0], center_spam[:,1], '*g')\n",
        "plt.plot(center_ham[:,0], center_ham[:,1], '*b')\n",
        "plt.xlabel(\"feature1\")\n",
        "plt.ylabel(\"feature2\")\n",
        "plt.title(\"Plotting the ham and spam samples\")\n",
        "plt.show\n",
        "\n"
      ]
    },
    {
      "cell_type": "markdown",
      "metadata": {
        "id": "sM9V4Rq_uMY2"
      },
      "source": [
        "#Finding the nearest cluster center among all clusters, and assigning the corresponding label"
      ]
    },
    {
      "cell_type": "code",
      "execution_count": 38,
      "metadata": {
        "id": "dwVkurbNuJMQ"
      },
      "outputs": [],
      "source": [
        "#calculating the distances from the samples to the centers\n",
        "def Predict(X,spamCenter,hamCenter,num_samples,num_centers):\n",
        "  center = np.concatenate((hamCenter,spamCenter),axis=0)\n",
        "  dis = np.zeros((num_samples,num_centers*2))\n",
        "  for i in range(num_centers*2):\n",
        "      cordinates = X-center[i,:]\n",
        "      power_cord = np.power(cordinates,2)\n",
        "      dis[:,i]= np.squeeze(np.sqrt(np.array([[sum(row)] for row in power_cord])))\n",
        "\n",
        "  #Clustring the training data based on the index of lowest distance\n",
        "  cluster = np.argmin(dis, axis=1)\n",
        "\n",
        "  #if the index is less then number of centers means from cluster 1 which is ham, else it is from cluster 2 which is spam\n",
        "  cluster_bin = cluster/num_centers\n",
        "  cluster_bin[cluster_bin < 1] = 0\n",
        "  cluster_bin[cluster_bin > 1] = 1\n",
        "  prd_labels = cluster_bin[np.newaxis,:].T\n",
        "  return prd_labels\n",
        "\n"
      ]
    },
    {
      "cell_type": "code",
      "execution_count": 39,
      "metadata": {
        "id": "SzLthnyJiGgA",
        "colab": {
          "base_uri": "https://localhost:8080/",
          "height": 489
        },
        "outputId": "e3cd2e08-5e98-48af-8e07-67e4896ae891"
      },
      "outputs": [
        {
          "output_type": "stream",
          "name": "stdout",
          "text": [
            "The error on train data is 32%\n"
          ]
        },
        {
          "output_type": "display_data",
          "data": {
            "text/plain": [
              "<Figure size 640x480 with 1 Axes>"
            ],
            "image/png": "[encoded data removed]"
          },
          "metadata": {}
        }
      ],
      "source": [
        "#plotting the predicted labels using the class centers\n",
        "prd_labels = Predict(new_train_data,center_spam,center_ham,num_samples,num_centers)\n",
        "\n",
        "data_with_labels = np.concatenate((new_train_data, prd_labels),axis=1)\n",
        "\n",
        "#deviding the data to ham and spam\n",
        "ham = data_with_labels[data_with_labels[:, -1] == 0, :2].copy()\n",
        "spam = data_with_labels[data_with_labels[:, -1] == 1, :2].copy()\n",
        "\n",
        "\n",
        "plt.plot(ham[:,0],ham[:,1],'oy',label='ham')\n",
        "plt.plot(spam[:,0],spam[:,1],'or',label='spam')\n",
        "plt.xlabel('Feature1')\n",
        "plt.ylabel('Feature2')\n",
        "plt.title(\"Plotting the predicted labels\")\n",
        "plt.legend()\n",
        "plt.show\n",
        "\n",
        "error = sum(np.abs(prd_labels-train_labels))/3127*100\n",
        "print(f'The error on train data is {int(error)}%')"
      ]
    },
    {
      "cell_type": "markdown",
      "metadata": {
        "id": "_ztN-EfFss5x"
      },
      "source": [
        "Deviding the training data to validation and training sets"
      ]
    },
    {
      "cell_type": "code",
      "execution_count": 40,
      "metadata": {
        "id": "leZolmuds22l",
        "colab": {
          "base_uri": "https://localhost:8080/"
        },
        "outputId": "ba9d361c-d05e-4ab6-ab18-383754ee153e"
      },
      "outputs": [
        {
          "output_type": "stream",
          "name": "stderr",
          "text": [
            "/usr/local/lib/python3.10/dist-packages/numpy/core/fromnumeric.py:3474: RuntimeWarning: Mean of empty slice.\n",
            "  return _methods._mean(a, axis=axis, dtype=dtype,\n",
            "/usr/local/lib/python3.10/dist-packages/numpy/core/_methods.py:181: RuntimeWarning: invalid value encountered in true_divide\n",
            "  ret = um.true_divide(\n"
          ]
        }
      ],
      "source": [
        "#we have 3127 samples, so we take 80% for train: 2501 and 20% for validation: 626\n",
        "my_train_data, vld_data = new_train_data[0:2501], new_train_data[2501:3127]\n",
        "my_train_labels, vld_labels = train_labels[0:2501], train_labels[2501:3127]\n",
        "\n",
        "my_train_data_with_labels = np.concatenate((my_train_data, my_train_labels),axis=1)\n",
        "new_ham = my_train_data_with_labels[my_train_data_with_labels[:, -1] == 0, :2].copy()\n",
        "new_spam = my_train_data_with_labels[my_train_data_with_labels[:, -1] == 1, :2].copy()\n",
        "\n",
        "#We need a loop where we train then we validate then we check the error \n",
        "\n",
        "num_centers = 2\n",
        "best_center = num_centers\n",
        "num_samples = vld_data.shape[0]\n",
        "num_samples_train = my_train_data.shape[0]\n",
        "\n",
        "min_error = 100\n",
        "epochs = 9\n",
        "error_train = np.zeros(epochs)\n",
        "error_vld = np.zeros(epochs)\n",
        "for i in range(epochs):\n",
        "  #train\n",
        "    classes, center_spam = my_kmeans(new_spam,num_centers)\n",
        "    classes, center_ham = my_kmeans(new_ham,num_centers)\n",
        "    prd_labels = Predict(my_train_data,center_spam,center_ham,num_samples_train,num_centers)\n",
        "    error_train[i] =  sum(np.abs(prd_labels-my_train_labels))/num_samples_train*100\n",
        "  #test\n",
        "    prd_labels = Predict(vld_data,center_spam,center_ham,num_samples,num_centers)\n",
        "    error_vld[i] =  sum(np.abs(prd_labels-vld_labels))/num_samples*100\n",
        "    best_center = best_center * (error_vld[i] > min_error) + num_centers * (error_vld[i] <= min_error)\n",
        "    min_error = min(min_error,error_vld[i])\n",
        "    num_centers+=2\n",
        "\n"
      ]
    },
    {
      "cell_type": "code",
      "execution_count": 41,
      "metadata": {
        "id": "OHncL5mM58JH",
        "colab": {
          "base_uri": "https://localhost:8080/",
          "height": 489
        },
        "outputId": "6fcecff8-f6f7-4acf-f9a2-632dc9eff467"
      },
      "outputs": [
        {
          "output_type": "execute_result",
          "data": {
            "text/plain": [
              "<function matplotlib.pyplot.show(close=None, block=None)>"
            ]
          },
          "metadata": {},
          "execution_count": 41
        },
        {
          "output_type": "display_data",
          "data": {
            "text/plain": [
              "<Figure size 640x480 with 1 Axes>"
            ],
            "image/png": "[encoded data removed]"
          },
          "metadata": {}
        }
      ],
      "source": [
        "x = np.linspace(2,epochs*2,epochs)\n",
        "plt.plot(x,error_vld,'r',label='error on validation')\n",
        "plt.plot(x,error_train,'b',label='error on train')\n",
        "plt.xlabel('Number of centers')\n",
        "plt.ylabel('Error %')\n",
        "plt.title(\"Plotting the predicted labels\")\n",
        "plt.legend()\n",
        "\n",
        "plt.show"
      ]
    },
    {
      "cell_type": "markdown",
      "metadata": {
        "id": "nzCnWorVIxTa"
      },
      "source": [
        "Computing train accuracy"
      ]
    },
    {
      "cell_type": "code",
      "execution_count": 42,
      "metadata": {
        "id": "pPkK7CTaIgin",
        "colab": {
          "base_uri": "https://localhost:8080/"
        },
        "outputId": "a92607e5-9392-46ba-f627-223a16fd0e58"
      },
      "outputs": [
        {
          "output_type": "stream",
          "name": "stdout",
          "text": [
            "The best number of centers is 6 with error on validation of: 26%\n"
          ]
        }
      ],
      "source": [
        "print(f'The best number of centers is {int(best_center)} with error on validation of: {int(min_error)}%')"
      ]
    },
    {
      "cell_type": "code",
      "execution_count": 43,
      "metadata": {
        "id": "bYzkge9aYO2H",
        "colab": {
          "base_uri": "https://localhost:8080/"
        },
        "outputId": "5905ea22-16a3-4659-d4bf-acb805c699aa"
      },
      "outputs": [
        {
          "output_type": "stream",
          "name": "stdout",
          "text": [
            "The training accuracy for the best values of k is: 39%\n"
          ]
        }
      ],
      "source": [
        "num_centers = 6\n",
        "classes, center_spam = my_kmeans(new_spam,num_centers)\n",
        "classes, center_ham = my_kmeans(new_ham,num_centers)\n",
        "prd_labels = Predict(my_train_data,center_spam,center_ham,num_samples_train,num_centers)\n",
        "error_train =  sum(np.abs(prd_labels-my_train_labels))/num_samples_train*100\n",
        "print(f'The training accuracy for the best values of k is: {int(error_train)}%')"
      ]
    },
    {
      "cell_type": "markdown",
      "metadata": {
        "id": "_ICB0xsFJbff"
      },
      "source": [
        "#Projecting to 2d good idea or not\n",
        "Since we are getting high error percentages, Projecting to 2d is not a good idea and this is because of the fact that there are other important features are removed from concidiration."
      ]
    },
    {
      "cell_type": "markdown",
      "metadata": {
        "id": "swa8dGtBN1KS"
      },
      "source": [
        "#Finding the best PCA "
      ]
    },
    {
      "cell_type": "code",
      "execution_count": 44,
      "metadata": {
        "id": "pmKIiJcHNTLa",
        "colab": {
          "base_uri": "https://localhost:8080/"
        },
        "outputId": "3f26a2ea-cdd7-4e97-f6c0-6cd35da6322a"
      },
      "outputs": [
        {
          "output_type": "stream",
          "name": "stdout",
          "text": [
            "0\n",
            "1\n",
            "2\n",
            "The dimension that preserves 95% of variance is: 3\n"
          ]
        }
      ],
      "source": [
        "\n",
        "# finding the coarience matrix \n",
        "c = np.cov(centred_data,rowvar=False)\n",
        "#we decompose the covarience matrix to eigen values and eigen vectors\n",
        "tmp, eig_val, tmp_T = la.svd(c)\n",
        "total = sum(eig_val[:])\n",
        "var = 0\n",
        "eigs = 0\n",
        "i = 0\n",
        "while var < 95:\n",
        "    eigs += eig_val[i]\n",
        "    print(i)\n",
        "    i +=1\n",
        "    var= eigs/total *100\n",
        "print(f'The dimension that preserves 95% of variance is: {i}')\n",
        "\n",
        "#we take the first 3 principal components from eigen vector matrix\n",
        "V = tmp[:,0:3]\n",
        "#To find \n",
        "new_train_data = (V.T @ centred_data.T).T\n"
      ]
    },
    {
      "cell_type": "markdown",
      "metadata": {
        "id": "ELjAMSsFUh6P"
      },
      "source": [
        "#Applying k-means again to the projected data\n"
      ]
    },
    {
      "cell_type": "code",
      "execution_count": 45,
      "metadata": {
        "id": "w6fWBOuXUnBl"
      },
      "outputs": [],
      "source": [
        "new_train_data_with_labels = np.concatenate((new_train_data, train_labels),axis=1)\n",
        "new_ham = new_train_data_with_labels[new_train_data_with_labels[:, -1] == 0, :2].copy()\n",
        "new_spam = new_train_data_with_labels[new_train_data_with_labels[:, -1] == 1, :2].copy()\n",
        "classes, center_spam = my_kmeans(new_spam,num_centers)\n",
        "classes, center_ham = my_kmeans(new_ham,num_centers)\n",
        "\n",
        "num_samples = new_train_data.shape[0]\n",
        "num_centers = 6\n",
        "#Predict(new_train_data,center_spam,center_ham,num_samples,num_centers)"
      ]
    },
    {
      "cell_type": "markdown",
      "metadata": {
        "id": "EtCkR82zZctN"
      },
      "source": [
        "#Testing for 2d and 6 centers"
      ]
    },
    {
      "cell_type": "code",
      "execution_count": 46,
      "metadata": {
        "id": "nqi6c_M3Zj-0"
      },
      "outputs": [],
      "source": [
        "#Centring the data:\n",
        "mean = np.mean(test_load, axis=0)\n",
        "\n",
        "centred_data = test_load - mean\n",
        "\n",
        "# finding the coarience matrix \n",
        "c = np.cov(centred_data,rowvar=False)\n",
        "#we decompose the covarience matrix to eigen values and eigen vectors\n",
        "tmp, eig_val, tmp_T = la.svd(c)\n",
        "#we take the first 2 principal components from eigen vector matrix\n",
        "V = tmp[:,0:2]\n",
        "\n",
        "test_data = (V.T @ centred_data.T).T\n",
        "\n",
        "num_samples = test_data.shape[0]\n",
        "\n",
        "classes, center_spam = my_kmeans(new_spam,num_centers)\n",
        "classes, center_ham = my_kmeans(new_ham,num_centers)\n",
        "prd_labels = Predict(test_data,center_spam,center_ham,num_samples,num_centers)\n",
        "\n"
      ]
    },
    {
      "cell_type": "markdown",
      "source": [
        "#We find the best PCA"
      ],
      "metadata": {
        "id": "PL8ErSHJl3r7"
      }
    },
    {
      "cell_type": "markdown",
      "metadata": {
        "id": "Wnhibg9canmi"
      },
      "source": [
        "#Saving the obtained results in a separate folder\n"
      ]
    },
    {
      "cell_type": "code",
      "execution_count": 49,
      "metadata": {
        "id": "jwz0UIOqasbl"
      },
      "outputs": [],
      "source": [
        "df = pd.DataFrame(prd_labels)\n",
        "df.to_csv('prediction_results.csv', index=False)"
      ]
    }
  ],
  "metadata": {
    "accelerator": "GPU",
    "colab": {
      "provenance": []
    },
    "kernelspec": {
      "display_name": "Python 3",
      "name": "python3"
    },
    "language_info": {
      "name": "python"
    }
  },
  "nbformat": 4,
  "nbformat_minor": 0
}